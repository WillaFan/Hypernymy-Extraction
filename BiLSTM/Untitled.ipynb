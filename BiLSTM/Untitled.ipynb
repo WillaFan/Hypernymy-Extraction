{
 "cells": [
  {
   "cell_type": "markdown",
   "metadata": {},
   "source": [
    "**BiLSTM Hyponymy Classification**"
   ]
  },
  {
   "cell_type": "code",
   "execution_count": 3,
   "metadata": {},
   "outputs": [],
   "source": [
    "# predict on test set\n",
    "from evalu import *\n",
    "\n",
    "pred_dev_ins, golden_dev_ins = test()"
   ]
  },
  {
   "cell_type": "code",
   "execution_count": 4,
   "metadata": {},
   "outputs": [
    {
     "name": "stdout",
     "output_type": "stream",
     "text": [
      "0.7505360972122945\n"
     ]
    }
   ],
   "source": [
    "# f1 score\n",
    "test_f1 = evaluate(golden_dev_ins, pred_dev_ins)\n",
    "print(test_f1)"
   ]
  },
  {
   "cell_type": "code",
   "execution_count": 5,
   "metadata": {},
   "outputs": [
    {
     "name": "stdout",
     "output_type": "stream",
     "text": [
      "[['O', 'O', 'O', 'O', 'B-TAR', 'O', 'O', 'O', 'O', 'O', 'O', 'O', 'O', 'B-HYP', 'O'], ['O', 'B-TAR', 'O', 'O', 'O', 'O', 'O', 'B-HYP', 'O', 'O'], ['O', 'B-TAR', 'O', 'O', 'O', 'O', 'O', 'O', 'O', 'O', 'O', 'O', 'O', 'O', 'O', 'O', 'O', 'O', 'O', 'O', 'O', 'I-HYP', 'O', 'O', 'O', 'O', 'O']]\n"
     ]
    }
   ],
   "source": [
    "# predictions\n",
    "print(pred_dev_ins[:3])"
   ]
  },
  {
   "cell_type": "code",
   "execution_count": 6,
   "metadata": {},
   "outputs": [
    {
     "name": "stdout",
     "output_type": "stream",
     "text": [
      "[['Rán B-TAR', 'goddess B-HYP'], ['Skyscraper B-TAR', 'habitable B-HYP'], ['Kantele B-TAR', 'instrument I-HYP'], ['Ruth B-TAR'], ['Dimension B-TAR', 'minimum B-HYP', 'number I-HYP']] ...\n"
     ]
    }
   ],
   "source": [
    "# hypernymy in each sentence\n",
    "with open(\"./data/test.txt\", \"r\", encoding=\"utf-8\") as f:\n",
    "    sens = []; t = []\n",
    "    for line in f:\n",
    "        if line!='\\n':\n",
    "            t.append(line)\n",
    "        else:\n",
    "            sens.append(t)\n",
    "            t=[]\n",
    "    \n",
    "    pairs=[]\n",
    "    for sen,pred in zip(sens,pred_dev_ins):\n",
    "        if len(sen) == len(pred):\n",
    "            _ = []\n",
    "            for i in range(len(sen)):\n",
    "                if pred[i] != 'O':\n",
    "                    _.append(sen[i].split()[0]+\" \"+pred[i])\n",
    "            pairs.append(_)\n",
    "print(pairs[:5],'...')"
   ]
  },
  {
   "cell_type": "code",
   "execution_count": 5,
   "metadata": {},
   "outputs": [],
   "source": [
    "# writer('./result.txt',pred_dev_ins)"
   ]
  }
 ],
 "metadata": {
  "kernelspec": {
   "display_name": "Python 3",
   "language": "python",
   "name": "python3"
  },
  "language_info": {
   "codemirror_mode": {
    "name": "ipython",
    "version": 3
   },
   "file_extension": ".py",
   "mimetype": "text/x-python",
   "name": "python",
   "nbconvert_exporter": "python",
   "pygments_lexer": "ipython3",
   "version": "3.7.6"
  }
 },
 "nbformat": 4,
 "nbformat_minor": 4
}
