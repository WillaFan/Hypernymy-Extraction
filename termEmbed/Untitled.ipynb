{
 "cells": [
  {
   "cell_type": "markdown",
   "metadata": {},
   "source": [
    "### use term embeddings to encode hypernymy properties"
   ]
  },
  {
   "cell_type": "markdown",
   "metadata": {},
   "source": [
    "**training embedding on probase**"
   ]
  },
  {
   "cell_type": "code",
   "execution_count": 1,
   "metadata": {},
   "outputs": [
    {
     "name": "stdout",
     "output_type": "stream",
     "text": [
      "File loaded.\n",
      "Data filtered.\n",
      "Duplicate words removed.\n",
      "Index dictionary created.\n",
      "Average cost in epoch 1: 1.4422178268432617\n",
      "Embeddings saved.\n",
      "Average cost in epoch 2: 0.39279404282569885\n",
      "Embeddings saved.\n",
      "Average cost in epoch 3: 0.19924098253250122\n",
      "Embeddings saved.\n",
      "Average cost in epoch 4: 0.12274154275655746\n",
      "Embeddings saved.\n",
      "Average cost in epoch 5: 0.08650821447372437\n",
      "Embeddings saved.\n"
     ]
    }
   ],
   "source": [
    "from EmbedTrainer import EmbeddingTrainer\n",
    "\n",
    "trainer = EmbeddingTrainer(embedding_size=50, verbose=2)\n",
    "trainer.load_data(\"./data/probase\", minimum_count=5, minimum_frequency=10)\n",
    "save_location = (\"./hypernym_embedding.txt\", \"./hyponym_embedding.txt\")\n",
    "trainer.train(epochs=5, batch_size=32, lr=0.01, gpu=False, save_location=save_location)  # epoch=20"
   ]
  },
  {
   "cell_type": "markdown",
   "metadata": {},
   "source": [
    "**training svm on BLESS**"
   ]
  },
  {
   "cell_type": "code",
   "execution_count": 2,
   "metadata": {
    "collapsed": true
   },
   "outputs": [
    {
     "name": "stdout",
     "output_type": "stream",
     "text": [
      "[('animal', 'alligator'), ('beast', 'alligator'), ('carnivore', 'alligator'), ('chordate', 'alligator'), ('creature', 'alligator'), ('predator', 'alligator'), ('reptile', 'alligator'), ('vertebrate', 'alligator'), ('amphibian', 'frog'), ('animal', 'frog'), ('beast', 'frog'), ('chordate', 'frog'), ('creature', 'frog'), ('vertebrate', 'frog'), ('animal', 'lizard'), ('beast', 'lizard'), ('carnivore', 'lizard'), ('chordate', 'lizard'), ('creature', 'lizard'), ('reptile', 'lizard'), ('vertebrate', 'lizard'), ('animal', 'snake'), ('beast', 'snake'), ('chordate', 'snake'), ('creature', 'snake'), ('reptile', 'snake'), ('vertebrate', 'snake'), ('amphibian', 'turtle'), ('animal', 'turtle'), ('beast', 'turtle'), ('chordate', 'turtle'), ('creature', 'turtle'), ('food', 'turtle'), ('pet', 'turtle'), ('reptile', 'turtle'), ('vertebrate', 'turtle'), ('appliance', 'dishwasher'), ('artefact', 'dishwasher'), ('artifact', 'dishwasher'), ('commodity', 'dishwasher'), ('device', 'dishwasher'), ('good', 'dishwasher'), ('object', 'dishwasher'), ('appliance', 'freezer'), ('artefact', 'freezer'), ('artifact', 'freezer'), ('commodity', 'freezer'), ('device', 'freezer'), ('good', 'freezer'), ('object', 'freezer'), ('appliance', 'fridge'), ('artefact', 'fridge'), ('artifact', 'fridge'), ('commodity', 'fridge'), ('device', 'fridge'), ('good', 'fridge'), ('object', 'fridge'), ('appliance', 'oven'), ('artefact', 'oven'), ('artifact', 'oven'), ('commodity', 'oven'), ('device', 'oven'), ('good', 'oven'), ('object', 'oven'), ('appliance', 'phone'), ('artefact', 'phone'), ('artifact', 'phone'), ('commodity', 'phone'), ('device', 'phone'), ('equipment', 'phone'), ('gadget', 'phone'), ('good', 'phone'), ('object', 'phone'), ('system', 'phone'), ('appliance', 'radio'), ('artefact', 'radio'), ('artifact', 'radio'), ('commodity', 'radio'), ('device', 'radio'), ('equipment', 'radio'), ('good', 'radio'), ('object', 'radio'), ('system', 'radio'), ('appliance', 'stereo'), ('artefact', 'stereo'), ('artifact', 'stereo'), ('commodity', 'stereo'), ('device', 'stereo'), ('equipment', 'stereo'), ('good', 'stereo'), ('object', 'stereo'), ('system', 'stereo'), ('appliance', 'stove'), ('artefact', 'stove'), ('artifact', 'stove'), ('commodity', 'stove'), ('device', 'stove'), ('good', 'stove'), ('object', 'stove'), ('appliance', 'television'), ('artefact', 'television'), ('artifact', 'television'), ('commodity', 'television'), ('device', 'television'), ('equipment', 'television'), ('good', 'television'), ('object', 'television'), ('system', 'television'), ('appliance', 'toaster'), ('artefact', 'toaster'), ('artifact', 'toaster'), ('commodity', 'toaster'), ('device', 'toaster'), ('good', 'toaster'), ('object', 'toaster'), ('appliance', 'washer'), ('artefact', 'washer'), ('artifact', 'washer'), ('commodity', 'washer'), ('device', 'washer'), ('good', 'washer'), ('object', 'washer'), ('animal', 'crow'), ('bird', 'crow'), ('chordate', 'crow'), ('creature', 'crow'), ('passerine', 'crow'), ('scavenger', 'crow'), ('vertebrate', 'crow'), ('animal', 'dove'), ('bird', 'dove'), ('chordate', 'dove'), ('creature', 'dove'), ('vertebrate', 'dove'), ('animal', 'eagle'), ('bird', 'eagle'), ('chordate', 'eagle'), ('creature', 'eagle'), ('predator', 'eagle'), ('raptor', 'eagle'), ('vertebrate', 'eagle'), ('animal', 'falcon'), ('bird', 'falcon'), ('chordate', 'falcon'), ('creature', 'falcon'), ('predator', 'falcon'), ('raptor', 'falcon'), ('vertebrate', 'falcon'), ('animal', 'goose'), ('bird', 'goose'), ('chordate', 'goose'), ('creature', 'goose'), ('vertebrate', 'goose'), ('waterbird', 'goose'), ('waterfowl', 'goose'), ('animal', 'hawk'), ('bird', 'hawk'), ('chordate', 'hawk'), ('creature', 'hawk'), ('predator', 'hawk'), ('raptor', 'hawk'), ('vertebrate', 'hawk'), ('animal', 'owl'), ('bird', 'owl'), ('chordate', 'owl'), ('creature', 'owl'), ('predator', 'owl'), ('raptor', 'owl'), ('vertebrate', 'owl'), ('animal', 'penguin'), ('bird', 'penguin'), ('chordate', 'penguin'), ('creature', 'penguin'), ('seabird', 'penguin'), ('vertebrate', 'penguin'), ('animal', 'pheasant'), ('bird', 'pheasant'), ('chordate', 'pheasant'), ('creature', 'pheasant'), ('game', 'pheasant'), ('vertebrate', 'pheasant'), ('animal', 'pigeon'), ('bird', 'pigeon'), ('chordate', 'pigeon'), ('creature', 'pigeon'), ('vertebrate', 'pigeon'), ('animal', 'robin'), ('bird', 'robin'), ('chordate', 'robin'), ('creature', 'robin'), ('passerine', 'robin'), ('thrush', 'robin'), ('vertebrate', 'robin'), ('animal', 'sparrow'), ('bird', 'sparrow'), ('chordate', 'sparrow'), ('creature', 'sparrow'), ('passerine', 'sparrow'), ('vertebrate', 'sparrow'), ('animal', 'swan'), ('bird', 'swan'), ('chordate', 'swan'), ('creature', 'swan'), ('vertebrate', 'swan'), ('waterbird', 'swan'), ('waterfowl', 'swan'), ('animal', 'vulture'), ('bird', 'vulture'), ('chordate', 'vulture'), ('creature', 'vulture'), ('predator', 'vulture'), ('raptor', 'vulture'), ('scavenger', 'vulture'), ('vertebrate', 'vulture'), ('animal', 'woodpecker'), ('bird', 'woodpecker'), ('chordate', 'woodpecker'), ('creature', 'woodpecker'), ('vertebrate', 'woodpecker'), ('accommodation', 'castle'), ('building', 'castle'), ('construction', 'castle'), ('defence', 'castle'), ('defense', 'castle'), ('dwelling', 'castle'), ('edifice', 'castle'), ('fortification', 'castle'), ('habitation', 'castle'), ('home', 'castle'), ('house', 'castle'), ('housing', 'castle'), ('lodging', 'castle'), ('site', 'castle'), ('structure', 'castle'), ('building', 'cathedral'), ('church', 'cathedral'), ('construction', 'cathedral'), ('edifice', 'cathedral'), ('site', 'cathedral'), ('structure', 'cathedral'), ('temple', 'cathedral'), ('accommodation', 'cottage'), ('building', 'cottage'), ('construction', 'cottage'), ('dwelling', 'cottage'), ('edifice', 'cottage'), ('habitation', 'cottage'), ('home', 'cottage'), ('house', 'cottage'), ('housing', 'cottage'), ('lodging', 'cottage'), ('structure', 'cottage'), ('building', 'hospital'), ('construction', 'hospital'), ('edifice', 'hospital'), ('institution', 'hospital'), ('site', 'hospital'), ('structure', 'hospital'), ('accommodation', 'hotel'), ('building', 'hotel'), ('construction', 'hotel'), ('edifice', 'hotel'), ('lodging', 'hotel'), ('structure', 'hotel'), ('building', 'library'), ('construction', 'library'), ('edifice', 'library'), ('institution', 'library'), ('site', 'library'), ('structure', 'library'), ('building', 'pub'), ('construction', 'pub'), ('edifice', 'pub'), ('institution', 'pub'), ('structure', 'pub'), ('building', 'restaurant'), ('construction', 'restaurant'), ('edifice', 'restaurant'), ('structure', 'restaurant'), ('accommodation', 'villa'), ('building', 'villa'), ('construction', 'villa'), ('dwelling', 'villa'), ('edifice', 'villa'), ('habitation', 'villa'), ('home', 'villa'), ('house', 'villa'), ('housing', 'villa'), ('lodging', 'villa'), ('site', 'villa'), ('structure', 'villa'), ('apparel', 'blouse'), ('artefact', 'blouse'), ('artifact', 'blouse'), ('clothes', 'blouse'), ('clothing', 'blouse'), ('commodity', 'blouse'), ('covering', 'blouse'), ('garment', 'blouse'), ('good', 'blouse'), ('object', 'blouse'), ('wear', 'blouse'), ('apparel', 'cloak'), ('artefact', 'cloak'), ('artifact', 'cloak'), ('clothes', 'cloak'), ('clothing', 'cloak'), ('commodity', 'cloak'), ('covering', 'cloak'), ('garment', 'cloak'), ('good', 'cloak'), ('object', 'cloak'), ('wear', 'cloak'), ('apparel', 'coat'), ('artefact', 'coat'), ('artifact', 'coat'), ('clothes', 'coat'), ('clothing', 'coat'), ('commodity', 'coat'), ('covering', 'coat'), ('garment', 'coat'), ('good', 'coat'), ('object', 'coat'), ('wear', 'coat'), ('apparel', 'dress'), ('artefact', 'dress'), ('artifact', 'dress'), ('clothes', 'dress'), ('clothing', 'dress'), ('commodity', 'dress'), ('covering', 'dress'), ('garment', 'dress'), ('good', 'dress'), ('object', 'dress'), ('wear', 'dress'), ('accessory', 'glove'), ('apparel', 'glove'), ('artefact', 'glove'), ('artifact', 'glove'), ('clothes', 'glove'), ('clothing', 'glove'), ('commodity', 'glove'), ('covering', 'glove'), ('garment', 'glove'), ('good', 'glove'), ('object', 'glove'), ('wear', 'glove'), ('accessory', 'hat'), ('apparel', 'hat'), ('artefact', 'hat'), ('artifact', 'hat'), ('clothes', 'hat'), ('clothing', 'hat'), ('commodity', 'hat'), ('covering', 'hat'), ('garment', 'hat'), ('good', 'hat'), ('headdress', 'hat'), ('headgear', 'hat'), ('object', 'hat'), ('wear', 'hat'), ('apparel', 'jacket'), ('artefact', 'jacket'), ('artifact', 'jacket'), ('clothes', 'jacket'), ('clothing', 'jacket'), ('commodity', 'jacket'), ('covering', 'jacket'), ('garment', 'jacket'), ('good', 'jacket'), ('object', 'jacket'), ('wear', 'jacket'), ('apparel', 'robe'), ('artefact', 'robe'), ('artifact', 'robe'), ('clothes', 'robe'), ('clothing', 'robe'), ('commodity', 'robe'), ('covering', 'robe'), ('garment', 'robe'), ('good', 'robe'), ('object', 'robe'), ('wear', 'robe'), ('accessory', 'scarf'), ('apparel', 'scarf'), ('artefact', 'scarf'), ('artifact', 'scarf'), ('clothes', 'scarf'), ('clothing', 'scarf'), ('commodity', 'scarf'), ('covering', 'scarf'), ('garment', 'scarf'), ('good', 'scarf'), ('object', 'scarf'), ('wear', 'scarf'), ('apparel', 'shirt'), ('artefact', 'shirt'), ('artifact', 'shirt'), ('clothes', 'shirt'), ('clothing', 'shirt'), ('commodity', 'shirt'), ('covering', 'shirt'), ('garment', 'shirt'), ('good', 'shirt'), ('object', 'shirt'), ('wear', 'shirt'), ('apparel', 'sweater'), ('artefact', 'sweater'), ('artifact', 'sweater'), ('clothes', 'sweater'), ('clothing', 'sweater'), ('commodity', 'sweater'), ('covering', 'sweater'), ('garment', 'sweater'), ('good', 'sweater'), ('object', 'sweater'), ('wear', 'sweater'), ('apparel', 'vest'), ('artefact', 'vest'), ('artifact', 'vest'), ('clothes', 'vest'), ('clothing', 'vest'), ('commodity', 'vest'), ('covering', 'vest'), ('garment', 'vest'), ('good', 'vest'), ('object', 'vest'), ('wear', 'vest'), ('accessory', 'bag'), ('artefact', 'bag'), ('artifact', 'bag'), ('container', 'bag'), ('luggage', 'bag'), ('object', 'bag'), ('artefact', 'bottle'), ('artifact', 'bottle'), ('container', 'bottle'), ('drinkware', 'bottle'), ('object', 'bottle'), ('utensil', 'bottle'), ('vessel', 'bottle'), ('artefact', 'bowl'), ('artifact', 'bowl'), ('container', 'bowl'), ('cookware', 'bowl'), ('dishware', 'bowl'), ('kitchenware', 'bowl'), ('object', 'bowl'), ('utensil', 'bowl'), ('vessel', 'bowl'), ('artefact', 'box'), ('artifact', 'box'), ('container', 'box'), ('object', 'box'), ('artefact', 'jar'), ('artifact', 'jar'), ('container', 'jar'), ('drinkware', 'jar'), ('kitchenware', 'jar'), ('object', 'jar'), ('utensil', 'jar'), ('vessel', 'jar'), ('artefact', 'mug'), ('artifact', 'mug'), ('container', 'mug'), ('dishware', 'mug'), ('drinkware', 'mug'), ('kitchenware', 'mug'), ('object', 'mug'), ('utensil', 'mug'), ('vessel', 'mug'), ('food', 'apple'), ('fruit', 'apple'), ('produce', 'apple'), ('food', 'apricot'), ('fruit', 'apricot'), ('produce', 'apricot'), ('food', 'banana'), ('fruit', 'banana'), ('produce', 'banana'), ('food', 'cherry'), ('fruit', 'cherry'), ('produce', 'cherry'), ('food', 'coconut'), ('fruit', 'coconut'), ('produce', 'coconut'), ('berry', 'cranberry'), ('food', 'cranberry'), ('fruit', 'cranberry'), ('produce', 'cranberry'), ('berry', 'grape'), ('food', 'grape'), ('fruit', 'grape'), ('produce', 'grape'), ('citrus', 'grapefruit'), ('food', 'grapefruit'), ('fruit', 'grapefruit'), ('produce', 'grapefruit'), ('citrus', 'lemon'), ('food', 'lemon'), ('fruit', 'lemon'), ('produce', 'lemon'), ('citrus', 'lime'), ('food', 'lime'), ('fruit', 'lime'), ('produce', 'lime'), ('food', 'peach'), ('fruit', 'peach'), ('produce', 'peach'), ('food', 'pear'), ('fruit', 'pear'), ('produce', 'pear'), ('food', 'pineapple'), ('fruit', 'pineapple'), ('produce', 'pineapple'), ('food', 'plum'), ('fruit', 'plum'), ('produce', 'plum'), ('food', 'strawberry'), ('fruit', 'strawberry'), ('produce', 'strawberry'), ('artefact', 'bed'), ('artifact', 'bed'), ('furnishing', 'bed'), ('furniture', 'bed'), ('object', 'bed'), ('artefact', 'bookcase'), ('artifact', 'bookcase'), ('furnishing', 'bookcase'), ('furniture', 'bookcase'), ('object', 'bookcase'), ('artefact', 'chair'), ('artifact', 'chair'), ('furnishing', 'chair'), ('furniture', 'chair'), ('object', 'chair'), ('artefact', 'couch'), ('artifact', 'couch'), ('furnishing', 'couch'), ('furniture', 'couch'), ('object', 'couch'), ('artefact', 'desk'), ('artifact', 'desk'), ('furnishing', 'desk'), ('furniture', 'desk'), ('object', 'desk'), ('artefact', 'dresser'), ('artifact', 'dresser'), ('furnishing', 'dresser'), ('furniture', 'dresser'), ('object', 'dresser'), ('artefact', 'sofa'), ('artifact', 'sofa'), ('furnishing', 'sofa'), ('furniture', 'sofa'), ('object', 'sofa'), ('artefact', 'table'), ('artifact', 'table'), ('furnishing', 'table'), ('furniture', 'table'), ('object', 'table'), ('artefact', 'wardrobe'), ('artifact', 'wardrobe'), ('furnishing', 'wardrobe'), ('furniture', 'wardrobe'), ('object', 'wardrobe'), ('animal', 'bear'), ('beast', 'bear'), ('chordate', 'bear'), ('creature', 'bear'), ('mammal', 'bear'), ('predator', 'bear'), ('vertebrate', 'bear'), ('animal', 'beaver'), ('beast', 'beaver'), ('chordate', 'beaver'), ('creature', 'beaver'), ('mammal', 'beaver'), ('rodent', 'beaver'), ('vertebrate', 'beaver'), ('animal', 'bull'), ('beast', 'bull'), ('chordate', 'bull'), ('creature', 'bull'), ('herbivore', 'bull'), ('mammal', 'bull'), ('ruminant', 'bull'), ('ungulate', 'bull'), ('vertebrate', 'bull'), ('animal', 'cat'), ('beast', 'cat'), ('carnivore', 'cat'), ('chordate', 'cat'), ('creature', 'cat'), ('feline', 'cat'), ('mammal', 'cat'), ('pet', 'cat'), ('vertebrate', 'cat'), ('animal', 'cow'), ('beast', 'cow'), ('cattle', 'cow'), ('chordate', 'cow'), ('creature', 'cow'), ('herbivore', 'cow'), ('mammal', 'cow'), ('ruminant', 'cow'), ('ungulate', 'cow'), ('vertebrate', 'cow'), ('animal', 'coyote'), ('beast', 'coyote'), ('canine', 'coyote'), ('carnivore', 'coyote'), ('chordate', 'coyote'), ('creature', 'coyote'), ('mammal', 'coyote'), ('predator', 'coyote'), ('vertebrate', 'coyote'), ('animal', 'deer'), ('beast', 'deer'), ('chordate', 'deer'), ('creature', 'deer'), ('herbivore', 'deer'), ('mammal', 'deer'), ('ruminant', 'deer'), ('ungulate', 'deer'), ('vertebrate', 'deer'), ('animal', 'donkey'), ('beast', 'donkey'), ('chordate', 'donkey'), ('creature', 'donkey'), ('herbivore', 'donkey'), ('mammal', 'donkey'), ('ungulate', 'donkey'), ('vertebrate', 'donkey'), ('animal', 'elephant'), ('beast', 'elephant'), ('chordate', 'elephant'), ('creature', 'elephant'), ('herbivore', 'elephant'), ('mammal', 'elephant'), ('vertebrate', 'elephant'), ('animal', 'fox'), ('beast', 'fox'), ('canine', 'fox'), ('carnivore', 'fox'), ('chordate', 'fox'), ('creature', 'fox'), ('mammal', 'fox'), ('predator', 'fox'), ('vertebrate', 'fox'), ('animal', 'giraffe'), ('beast', 'giraffe'), ('chordate', 'giraffe'), ('creature', 'giraffe'), ('herbivore', 'giraffe'), ('mammal', 'giraffe'), ('ungulate', 'giraffe'), ('vertebrate', 'giraffe'), ('animal', 'goat'), ('beast', 'goat'), ('chordate', 'goat'), ('creature', 'goat'), ('food', 'goat'), ('herbivore', 'goat'), ('mammal', 'goat'), ('ruminant', 'goat'), ('ungulate', 'goat'), ('vertebrate', 'goat'), ('animal', 'gorilla'), ('ape', 'gorilla'), ('beast', 'gorilla'), ('chordate', 'gorilla'), ('creature', 'gorilla'), ('mammal', 'gorilla'), ('primate', 'gorilla'), ('vertebrate', 'gorilla'), ('animal', 'horse'), ('beast', 'horse'), ('chordate', 'horse'), ('creature', 'horse'), ('herbivore', 'horse'), ('mammal', 'horse'), ('ungulate', 'horse'), ('vertebrate', 'horse'), ('animal', 'lion'), ('beast', 'lion'), ('carnivore', 'lion'), ('chordate', 'lion'), ('creature', 'lion'), ('feline', 'lion'), ('mammal', 'lion'), ('predator', 'lion'), ('vertebrate', 'lion'), ('animal', 'pig'), ('beast', 'pig'), ('chordate', 'pig'), ('creature', 'pig'), ('mammal', 'pig'), ('swine', 'pig'), ('ungulate', 'pig'), ('vertebrate', 'pig'), ('animal', 'rabbit'), ('beast', 'rabbit'), ('chordate', 'rabbit'), ('creature', 'rabbit'), ('food', 'rabbit'), ('herbivore', 'rabbit'), ('mammal', 'rabbit'), ('pet', 'rabbit'), ('vertebrate', 'rabbit'), ('animal', 'rat'), ('beast', 'rat'), ('chordate', 'rat'), ('creature', 'rat'), ('mammal', 'rat'), ('rodent', 'rat'), ('vertebrate', 'rat'), ('animal', 'sheep'), ('beast', 'sheep'), ('chordate', 'sheep'), ('creature', 'sheep'), ('herbivore', 'sheep'), ('mammal', 'sheep'), ('ruminant', 'sheep'), ('ungulate', 'sheep'), ('vertebrate', 'sheep'), ('animal', 'squirrel'), ('beast', 'squirrel'), ('chordate', 'squirrel'), ('creature', 'squirrel'), ('mammal', 'squirrel'), ('rodent', 'squirrel'), ('vertebrate', 'squirrel'), ('animal', 'tiger'), ('beast', 'tiger'), ('carnivore', 'tiger'), ('chordate', 'tiger'), ('creature', 'tiger'), ('feline', 'tiger'), ('mammal', 'tiger'), ('predator', 'tiger'), ('vertebrate', 'tiger'), ('animal', 'ant'), ('arthropod', 'ant'), ('bug', 'ant'), ('creature', 'ant'), ('insect', 'ant'), ('invertebrate', 'ant'), ('animal', 'beetle'), ('arthropod', 'beetle'), ('bug', 'beetle'), ('creature', 'beetle'), ('insect', 'beetle'), ('invertebrate', 'beetle'), ('animal', 'butterfly'), ('arthropod', 'butterfly'), ('creature', 'butterfly'), ('insect', 'butterfly'), ('invertebrate', 'butterfly'), ('animal', 'cockroach'), ('arthropod', 'cockroach'), ('bug', 'cockroach'), ('creature', 'cockroach'), ('insect', 'cockroach'), ('invertebrate', 'cockroach'), ('pest', 'cockroach'), ('animal', 'grasshopper'), ('arthropod', 'grasshopper'), ('bug', 'grasshopper'), ('creature', 'grasshopper'), ('insect', 'grasshopper'), ('invertebrate', 'grasshopper'), ('animal', 'hornet'), ('arthropod', 'hornet'), ('creature', 'hornet'), ('insect', 'hornet'), ('invertebrate', 'hornet'), ('animal', 'moth'), ('arthropod', 'moth'), ('creature', 'moth'), ('insect', 'moth'), ('invertebrate', 'moth'), ('animal', 'wasp'), ('arthropod', 'wasp'), ('creature', 'wasp'), ('insect', 'wasp'), ('invertebrate', 'wasp'), ('artefact', 'cello'), ('artifact', 'cello'), ('device', 'cello'), ('instrument', 'cello'), ('object', 'cello'), ('artefact', 'clarinet'), ('artifact', 'clarinet'), ('device', 'clarinet'), ('instrument', 'clarinet'), ('object', 'clarinet'), ('woodwind', 'clarinet'), ('artefact', 'flute'), ('artifact', 'flute'), ('device', 'flute'), ('instrument', 'flute'), ('object', 'flute'), ('woodwind', 'flute'), ('artefact', 'guitar'), ('artifact', 'guitar'), ('device', 'guitar'), ('instrument', 'guitar'), ('object', 'guitar'), ('artefact', 'piano'), ('artifact', 'piano'), ('device', 'piano'), ('furniture', 'piano'), ('instrument', 'piano'), ('artefact', 'saxophone'), ('artifact', 'saxophone'), ('device', 'saxophone'), ('instrument', 'saxophone'), ('object', 'saxophone'), ('woodwind', 'saxophone'), ('artefact', 'trumpet'), ('artifact', 'trumpet'), ('device', 'trumpet'), ('instrument', 'trumpet'), ('object', 'trumpet'), ('woodwind', 'trumpet'), ('artefact', 'violin'), ('artifact', 'violin'), ('device', 'violin'), ('instrument', 'violin'), ('object', 'violin'), ('artefact', 'axe'), ('artifact', 'axe'), ('cutlery', 'axe'), ('implement', 'axe'), ('object', 'axe'), ('tool', 'axe'), ('utensil', 'axe'), ('weapon', 'axe'), ('artefact', 'chisel'), ('artifact', 'chisel'), ('implement', 'chisel'), ('object', 'chisel'), ('tool', 'chisel'), ('utensil', 'chisel'), ('artefact', 'corkscrew'), ('artifact', 'corkscrew'), ('device', 'corkscrew'), ('implement', 'corkscrew'), ('kitchenware', 'corkscrew'), ('object', 'corkscrew'), ('opener', 'corkscrew'), ('tool', 'corkscrew'), ('utensil', 'corkscrew'), ('artefact', 'fork'), ('artifact', 'fork'), ('cutlery', 'fork'), ('kitchenware', 'fork'), ('object', 'fork'), ('tableware', 'fork'), ('tool', 'fork'), ('utensil', 'fork'), ('artefact', 'hammer'), ('artifact', 'hammer'), ('implement', 'hammer'), ('object', 'hammer'), ('tool', 'hammer'), ('utensil', 'hammer'), ('artefact', 'hatchet'), ('artifact', 'hatchet'), ('cutlery', 'hatchet'), ('implement', 'hatchet'), ('object', 'hatchet'), ('tool', 'hatchet'), ('utensil', 'hatchet'), ('weapon', 'hatchet'), ('artefact', 'knife'), ('artifact', 'knife'), ('cutlery', 'knife'), ('implement', 'knife'), ('kitchenware', 'knife'), ('tableware', 'knife'), ('tool', 'knife'), ('utensil', 'knife'), ('weapon', 'knife'), ('artefact', 'rake'), ('artifact', 'rake'), ('implement', 'rake'), ('object', 'rake'), ('tool', 'rake'), ('utensil', 'rake'), ('artefact', 'saw'), ('artifact', 'saw'), ('implement', 'saw'), ('object', 'saw'), ('tool', 'saw'), ('utensil', 'saw'), ('artefact', 'screwdriver'), ('artifact', 'screwdriver'), ('implement', 'screwdriver'), ('object', 'screwdriver'), ('tool', 'screwdriver'), ('utensil', 'screwdriver'), ('artefact', 'shovel'), ('artifact', 'shovel'), ('implement', 'shovel'), ('object', 'shovel'), ('tool', 'shovel'), ('utensil', 'shovel'), ('artefact', 'sieve'), ('artifact', 'sieve'), ('filter', 'sieve'), ('implement', 'sieve'), ('kitchenware', 'sieve'), ('object', 'sieve'), ('tool', 'sieve'), ('utensil', 'sieve'), ('artefact', 'spade'), ('artifact', 'spade'), ('implement', 'spade'), ('object', 'spade'), ('tool', 'spade'), ('utensil', 'spade'), ('artefact', 'spoon'), ('artifact', 'spoon'), ('container', 'spoon'), ('cutlery', 'spoon'), ('kitchenware', 'spoon'), ('object', 'spoon'), ('tableware', 'spoon'), ('tool', 'spoon'), ('utensil', 'spoon'), ('artefact', 'wrench'), ('artifact', 'wrench'), ('implement', 'wrench'), ('object', 'wrench'), ('tool', 'wrench'), ('utensil', 'wrench'), ('plant', 'acacia'), ('tree', 'acacia'), ('plant', 'birch'), ('tree', 'birch'), ('conifer', 'cedar'), ('evergreen', 'cedar'), ('gymnosperm', 'cedar'), ('plant', 'cedar'), ('tree', 'cedar'), ('conifer', 'cypress'), ('evergreen', 'cypress'), ('gymnosperm', 'cypress'), ('plant', 'cypress'), ('tree', 'cypress'), ('plant', 'elm'), ('tree', 'elm'), ('plant', 'oak'), ('tree', 'oak'), ('conifer', 'pine'), ('evergreen', 'pine'), ('gymnosperm', 'pine'), ('plant', 'pine'), ('tree', 'pine'), ('angiosperm', 'poplar'), ('plant', 'poplar'), ('tree', 'poplar'), ('plant', 'willow'), ('tree', 'willow'), ('food', 'beet'), ('produce', 'beet'), ('root', 'beet'), ('vegetable', 'beet'), ('veggie', 'beet'), ('food', 'broccoli'), ('produce', 'broccoli'), ('vegetable', 'broccoli'), ('veggie', 'broccoli'), ('food', 'cabbage'), ('produce', 'cabbage'), ('vegetable', 'cabbage'), ('veggie', 'cabbage'), ('food', 'carrot'), ('produce', 'carrot'), ('root', 'carrot'), ('vegetable', 'carrot'), ('veggie', 'carrot'), ('food', 'cauliflower'), ('produce', 'cauliflower'), ('vegetable', 'cauliflower'), ('veggie', 'cauliflower'), ('food', 'celery'), ('herb', 'celery'), ('produce', 'celery'), ('vegetable', 'celery'), ('veggie', 'celery'), ('cereal', 'corn'), ('food', 'corn'), ('grain', 'corn'), ('produce', 'corn'), ('vegetable', 'corn'), ('veggie', 'corn'), ('food', 'cucumber'), ('produce', 'cucumber'), ('vegetable', 'cucumber'), ('veggie', 'cucumber'), ('food', 'garlic'), ('produce', 'garlic'), ('seasoning', 'garlic'), ('spice', 'garlic'), ('vegetable', 'garlic'), ('veggie', 'garlic'), ('food', 'lettuce'), ('produce', 'lettuce'), ('vegetable', 'lettuce'), ('veggie', 'lettuce'), ('food', 'onion'), ('produce', 'onion'), ('vegetable', 'onion'), ('veggie', 'onion'), ('food', 'parsley'), ('herb', 'parsley'), ('produce', 'parsley'), ('seasoning', 'parsley'), ('vegetable', 'parsley'), ('veggie', 'parsley'), ('food', 'potato'), ('produce', 'potato'), ('tuber', 'potato'), ('vegetable', 'potato'), ('veggie', 'potato'), ('food', 'radish'), ('produce', 'radish'), ('root', 'radish'), ('vegetable', 'radish'), ('veggie', 'radish'), ('food', 'spinach'), ('produce', 'spinach'), ('vegetable', 'spinach'), ('veggie', 'spinach'), ('food', 'turnip'), ('produce', 'turnip'), ('root', 'turnip'), ('vegetable', 'turnip'), ('veggie', 'turnip'), ('artefact', 'ambulance'), ('artifact', 'ambulance'), ('conveyance', 'ambulance'), ('transport', 'ambulance'), ('vehicle', 'ambulance'), ('artefact', 'battleship'), ('artifact', 'battleship'), ('craft', 'battleship'), ('ship', 'battleship'), ('vehicle', 'battleship'), ('vessel', 'battleship'), ('warship', 'battleship'), ('watercraft', 'battleship'), ('aeroplane', 'bomber'), ('aircraft', 'bomber'), ('airplane', 'bomber'), ('artefact', 'bomber'), ('artifact', 'bomber'), ('conveyance', 'bomber'), ('craft', 'bomber'), ('plane', 'bomber'), ('transport', 'bomber'), ('vehicle', 'bomber'), ('warplane', 'bomber'), ('artefact', 'bus'), ('artifact', 'bus'), ('conveyance', 'bus'), ('transport', 'bus'), ('vehicle', 'bus'), ('artefact', 'car'), ('artifact', 'car'), ('conveyance', 'car'), ('transport', 'car'), ('vehicle', 'car'), ('artefact', 'ferry'), ('artifact', 'ferry'), ('boat', 'ferry'), ('craft', 'ferry'), ('vehicle', 'ferry'), ('vessel', 'ferry'), ('watercraft', 'ferry'), ('aeroplane', 'fighter'), ('aircraft', 'fighter'), ('airplane', 'fighter'), ('artefact', 'fighter'), ('artifact', 'fighter'), ('conveyance', 'fighter'), ('craft', 'fighter'), ('plane', 'fighter'), ('transport', 'fighter'), ('vehicle', 'fighter'), ('warplane', 'fighter'), ('artefact', 'frigate'), ('artifact', 'frigate'), ('craft', 'frigate'), ('ship', 'frigate'), ('vehicle', 'frigate'), ('vessel', 'frigate'), ('warship', 'frigate'), ('watercraft', 'frigate'), ('aircraft', 'glider'), ('artefact', 'glider'), ('artifact', 'glider'), ('conveyance', 'glider'), ('craft', 'glider'), ('transport', 'glider'), ('vehicle', 'glider'), ('aircraft', 'helicopter'), ('artefact', 'helicopter'), ('artifact', 'helicopter'), ('conveyance', 'helicopter'), ('craft', 'helicopter'), ('transport', 'helicopter'), ('vehicle', 'helicopter'), ('aeroplane', 'jet'), ('aircraft', 'jet'), ('airplane', 'jet'), ('artefact', 'jet'), ('artifact', 'jet'), ('conveyance', 'jet'), ('craft', 'jet'), ('plane', 'jet'), ('transport', 'jet'), ('vehicle', 'jet'), ('artefact', 'motorcycle'), ('artifact', 'motorcycle'), ('conveyance', 'motorcycle'), ('transport', 'motorcycle'), ('vehicle', 'motorcycle'), ('artefact', 'scooter'), ('artifact', 'scooter'), ('conveyance', 'scooter'), ('transport', 'scooter'), ('vehicle', 'scooter'), ('artefact', 'tanker'), ('artifact', 'tanker'), ('craft', 'tanker'), ('ship', 'tanker'), ('vehicle', 'tanker'), ('vessel', 'tanker'), ('watercraft', 'tanker'), ('artefact', 'train'), ('artifact', 'train'), ('conveyance', 'train'), ('transport', 'train'), ('vehicle', 'train'), ('artefact', 'truck'), ('artifact', 'truck'), ('conveyance', 'truck'), ('transport', 'truck'), ('vehicle', 'truck'), ('artefact', 'van'), ('artifact', 'van'), ('conveyance', 'van'), ('transport', 'van'), ('vehicle', 'van'), ('artefact', 'yacht'), ('artifact', 'yacht'), ('boat', 'yacht'), ('craft', 'yacht'), ('vehicle', 'yacht'), ('vessel', 'yacht'), ('watercraft', 'yacht'), ('animal', 'carp'), ('chordate', 'carp'), ('creature', 'carp'), ('fish', 'carp'), ('food', 'carp'), ('seafood', 'carp'), ('vertebrate', 'carp'), ('animal', 'catfish'), ('chordate', 'catfish'), ('creature', 'catfish'), ('fish', 'catfish'), ('food', 'catfish'), ('seafood', 'catfish'), ('vertebrate', 'catfish'), ('animal', 'cod'), ('chordate', 'cod'), ('creature', 'cod'), ('fish', 'cod'), ('food', 'cod'), ('seafood', 'cod'), ('vertebrate', 'cod'), ('animal', 'dolphin'), ('cetacean', 'dolphin'), ('chordate', 'dolphin'), ('creature', 'dolphin'), ('mammal', 'dolphin'), ('vertebrate', 'dolphin'), ('animal', 'goldfish'), ('chordate', 'goldfish'), ('creature', 'goldfish'), ('fish', 'goldfish'), ('pet', 'goldfish'), ('vertebrate', 'goldfish'), ('animal', 'herring'), ('chordate', 'herring'), ('creature', 'herring'), ('fish', 'herring'), ('food', 'herring'), ('seafood', 'herring'), ('vertebrate', 'herring'), ('animal', 'mackerel'), ('chordate', 'mackerel'), ('creature', 'mackerel'), ('fish', 'mackerel'), ('food', 'mackerel'), ('seafood', 'mackerel'), ('vertebrate', 'mackerel'), ('animal', 'salmon'), ('chordate', 'salmon'), ('creature', 'salmon'), ('fish', 'salmon'), ('food', 'salmon'), ('seafood', 'salmon'), ('vertebrate', 'salmon'), ('animal', 'trout'), ('chordate', 'trout'), ('creature', 'trout'), ('fish', 'trout'), ('food', 'trout'), ('seafood', 'trout'), ('vertebrate', 'trout'), ('animal', 'tuna'), ('chordate', 'tuna'), ('creature', 'tuna'), ('fish', 'tuna'), ('food', 'tuna'), ('seafood', 'tuna'), ('vertebrate', 'tuna'), ('animal', 'whale'), ('cetacean', 'whale'), ('chordate', 'whale'), ('creature', 'whale'), ('food', 'whale'), ('mammal', 'whale'), ('seafood', 'whale'), ('vertebrate', 'whale'), ('arm', 'bomb'), ('artefact', 'bomb'), ('artifact', 'bomb'), ('device', 'bomb'), ('implement', 'bomb'), ('object', 'bomb'), ('weapon', 'bomb'), ('arm', 'cannon'), ('artefact', 'cannon'), ('artifact', 'cannon'), ('device', 'cannon'), ('gun', 'cannon'), ('implement', 'cannon'), ('object', 'cannon'), ('weapon', 'cannon'), ('arm', 'dagger'), ('artefact', 'dagger'), ('artifact', 'dagger'), ('device', 'dagger'), ('implement', 'dagger'), ('object', 'dagger'), ('weapon', 'dagger'), ('arm', 'grenade'), ('artefact', 'grenade'), ('artifact', 'grenade'), ('device', 'grenade'), ('implement', 'grenade'), ('object', 'grenade'), ('weapon', 'grenade'), ('arm', 'gun'), ('artefact', 'gun'), ('artifact', 'gun'), ('device', 'gun'), ('implement', 'gun'), ('object', 'gun'), ('weapon', 'gun'), ('arm', 'missile'), ('artefact', 'missile'), ('artifact', 'missile'), ('device', 'missile'), ('implement', 'missile'), ('object', 'missile'), ('rocket', 'missile'), ('vehicle', 'missile'), ('weapon', 'missile'), ('arm', 'musket'), ('artefact', 'musket'), ('artifact', 'musket'), ('device', 'musket'), ('firearm', 'musket'), ('gun', 'musket'), ('implement', 'musket'), ('object', 'musket'), ('weapon', 'musket'), ('arm', 'pistol'), ('artefact', 'pistol'), ('artifact', 'pistol'), ('device', 'pistol'), ('firearm', 'pistol'), ('gun', 'pistol'), ('implement', 'pistol'), ('object', 'pistol'), ('weapon', 'pistol'), ('arm', 'revolver'), ('artefact', 'revolver'), ('artifact', 'revolver'), ('device', 'revolver'), ('firearm', 'revolver'), ('gun', 'revolver'), ('implement', 'revolver'), ('object', 'revolver'), ('pistol', 'revolver'), ('weapon', 'revolver'), ('arm', 'rifle'), ('artefact', 'rifle'), ('artifact', 'rifle'), ('device', 'rifle'), ('firearm', 'rifle'), ('gun', 'rifle'), ('implement', 'rifle'), ('object', 'rifle'), ('weapon', 'rifle'), ('arm', 'spear'), ('artefact', 'spear'), ('artifact', 'spear'), ('device', 'spear'), ('implement', 'spear'), ('object', 'spear'), ('weapon', 'spear'), ('arm', 'sword'), ('artefact', 'sword'), ('artifact', 'sword'), ('device', 'sword'), ('implement', 'sword'), ('object', 'sword'), ('weapon', 'sword')]\n"
     ]
    }
   ],
   "source": [
    "from preprocess import *\n",
    "\n",
    "hypernym_pairs, cohypernym_pairs, meronym_pairs, random_pairs = process_bless(\"./data/BLESS.txt\")\n",
    "print(hypernym_pairs)"
   ]
  },
  {
   "cell_type": "code",
   "execution_count": 11,
   "metadata": {},
   "outputs": [
    {
     "name": "stdout",
     "output_type": "stream",
     "text": [
      "Train score: 0.9301366331528744\n",
      "Test score: 0.9206185567010309\n",
      "              precision    recall  f1-score   support\n",
      "\n",
      "           0       0.96      0.95      0.96      2641\n",
      "           1       0.57      0.61      0.59       269\n",
      "\n",
      "    accuracy                           0.92      2910\n",
      "   macro avg       0.76      0.78      0.77      2910\n",
      "weighted avg       0.92      0.92      0.92      2910\n",
      "\n"
     ]
    },
    {
     "data": {
      "text/plain": [
       "['./trained_model.pkl']"
      ]
     },
     "execution_count": 11,
     "metadata": {},
     "output_type": "execute_result"
    }
   ],
   "source": [
    "from sklearn.model_selection import train_test_split\n",
    "from sklearn.metrics import classification_report\n",
    "import joblib\n",
    "\n",
    "from models import DynamicMarginModel\n",
    "\n",
    "X = []\n",
    "X.extend(hypernym_pairs)\n",
    "X.extend(cohypernym_pairs)\n",
    "X.extend(meronym_pairs)\n",
    "X.extend(random_pairs)\n",
    "\n",
    "y = []\n",
    "y.extend([1 for _ in range(len(hypernym_pairs))])\n",
    "y.extend([0 for _ in range(len(cohypernym_pairs))])\n",
    "y.extend([0 for _ in range(len(meronym_pairs))])\n",
    "y.extend([0 for _ in range(len(random_pairs))])\n",
    "\n",
    "X_train, X_test, y_train, y_test = train_test_split(X, y, train_size=0.8, test_size=0.2)\n",
    "\n",
    "model = DynamicMarginModel(\"./hypernym_embedding.txt\",\\\n",
    "                 \"./hyponym_embedding.txt\", C=8, class_weight='balanced')\n",
    "\n",
    "model.fit(X_train, y_train)\n",
    "print('Train score: {}'.format(model.score(X_train, y_train)))\n",
    "print('Test score: {}'.format(model.score(X_test, y_test)))\n",
    "print(classification_report(y_test, model.predict(X_test)))\n",
    "with open(\"./results.txt\", \"w\") as res:\n",
    "    res.write('Train score: {}\\n'.format(model.score(X_train, y_train)))\n",
    "    res.write('Test score: {}\\n'.format(model.score(X_test, y_test)))\n",
    "    for line in classification_report(y_test, model.predict(X_test)):\n",
    "        res.write(line)\n",
    "res.close()\n",
    "\n",
    "model.fit(X, y)\n",
    "joblib.dump(model, './trained_model.pkl')"
   ]
  },
  {
   "cell_type": "code",
   "execution_count": 15,
   "metadata": {},
   "outputs": [
    {
     "name": "stdout",
     "output_type": "stream",
     "text": [
      "animal is a hypernym of dog.\n",
      "\n"
     ]
    }
   ],
   "source": [
    "\"\"\"Check if given two words form hypernym hyponym relationship.\n",
    "Usage: python3 test.py word1 word2\n",
    "Returns if word1 is hypernym of word2.\n",
    "\"\"\"\n",
    "\n",
    "import sys\n",
    "\n",
    "import joblib\n",
    "\n",
    "# if __name__ == \"__main__\":\n",
    "#     if len(sys.argv) != 3:\n",
    "#         print('Usage: {} word1 word2', sys.argv[0])\n",
    "#         sys.exit()\n",
    "sys.path.append('..')\n",
    "        \n",
    "model = joblib.load('./trained_model.pkl')\n",
    "    \n",
    "if model.predict([('animal', 'dog')]) == 1:\n",
    "    print(\"{} is a hypernym of {}.\\n\".format('animal', 'dog'))\n",
    "else:\n",
    "    print(\"{} is not a hypernym of {}.\\n\".format('animal', 'dog'))\n",
    "\n",
    "    \n",
    "# ````````````````````````````````````````````````````````````\n",
    "# Write prediction into file\n",
    "with open(\"../Results/term_embed_result.txt\", \"w\", encoding=\"utf-8\") as f:\n",
    "    f.write(\"hyper\\thypo\\tisA\\n\")\n",
    "    for pair in X_test:\n",
    "        f.write(pair[0]+\"\\t\")\n",
    "        f.write(pair[1]+\"\\t\")\n",
    "        f.write(str(model.predict([(pair[0], pair[1])])[0])+\"\\n\")\n",
    "f.close()"
   ]
  }
 ],
 "metadata": {
  "kernelspec": {
   "display_name": "Python 3",
   "language": "python",
   "name": "python3"
  },
  "language_info": {
   "codemirror_mode": {
    "name": "ipython",
    "version": 3
   },
   "file_extension": ".py",
   "mimetype": "text/x-python",
   "name": "python",
   "nbconvert_exporter": "python",
   "pygments_lexer": "ipython3",
   "version": "3.7.6"
  }
 },
 "nbformat": 4,
 "nbformat_minor": 4
}
