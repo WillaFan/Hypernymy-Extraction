{
 "cells": [
  {
   "cell_type": "markdown",
   "metadata": {},
   "source": [
    "Data"
   ]
  },
  {
   "cell_type": "code",
   "execution_count": 1,
   "metadata": {},
   "outputs": [
    {
     "name": "stdout",
     "output_type": "stream",
     "text": [
      "armed_robbery\trobbery\t741\n",
      "\n",
      "yasukuni_shrine\tshrine\t14\n",
      "\n",
      "senior_official\tofficial\t5416\n",
      "\n",
      "intelligence_chief_omar_suleiman\tsenior_official\t3\n",
      "\n",
      "intelligence_chief_omar_suleiman\tofficial\t17\n",
      "\n"
     ]
    }
   ],
   "source": [
    "import gzip\n",
    "hearstfreq = gzip.open(\"./data/hearst_counts.txt.gz\",\"rt\")\n",
    "for i in range(5):\n",
    "    print(hearstfreq.readline())"
   ]
  },
  {
   "cell_type": "markdown",
   "metadata": {},
   "source": [
    "Model"
   ]
  },
  {
   "cell_type": "code",
   "execution_count": 3,
   "metadata": {},
   "outputs": [
    {
     "name": "stdout",
     "output_type": "stream",
     "text": [
      "raw\n"
     ]
    },
    {
     "data": {
      "text/plain": [
       "741.0"
      ]
     },
     "execution_count": 3,
     "metadata": {},
     "output_type": "execute_result"
    }
   ],
   "source": [
    "from PPMI_SVD import RawCountModel, PPMIModel, SvdPpmiModel\n",
    "rcm = RawCountModel('./data/hearst_counts.txt.gz')\n",
    "print(rcm.__str__())\n",
    "rcm.predict('armed_robbery','robbery')"
   ]
  },
  {
   "cell_type": "code",
   "execution_count": 4,
   "metadata": {},
   "outputs": [
    {
     "name": "stdout",
     "output_type": "stream",
     "text": [
      "ppmi\n"
     ]
    },
    {
     "data": {
      "text/plain": [
       "8.019206721211631"
      ]
     },
     "execution_count": 4,
     "metadata": {},
     "output_type": "execute_result"
    }
   ],
   "source": [
    "ppmi = PPMIModel('./data/hearst_counts.txt.gz')\n",
    "print(ppmi.__str__())\n",
    "ppmi.predict('armed_robbery','robbery')"
   ]
  },
  {
   "cell_type": "code",
   "execution_count": 5,
   "metadata": {},
   "outputs": [
    {
     "name": "stdout",
     "output_type": "stream",
     "text": [
      "SvdPpmi\n"
     ]
    },
    {
     "data": {
      "text/plain": [
       "0.0005577248388104158"
      ]
     },
     "execution_count": 5,
     "metadata": {},
     "output_type": "execute_result"
    }
   ],
   "source": [
    "svdmi = SvdPpmiModel('./data/hearst_counts.txt.gz', k=20)\n",
    "print(svdmi.__str__())\n",
    "svdmi.predict('armed_robbery','robbery')"
   ]
  },
  {
   "cell_type": "markdown",
   "metadata": {},
   "source": [
    "Prediction"
   ]
  },
  {
   "cell_type": "code",
   "execution_count": 5,
   "metadata": {},
   "outputs": [
    {
     "name": "stdout",
     "output_type": "stream",
     "text": [
      "8.019206721211631\n",
      "8.019206721211631\n",
      "0.0\n"
     ]
    }
   ],
   "source": [
    "# test\n",
    "from base import Precomputed\n",
    "\n",
    "sim = ppmi.predict('armed_robbery','robbery')\n",
    "path = \"./result_\"+ppmi.__str__()+\".txt\"\n",
    "with open(path, \"w\", encoding=\"UTF-8\") as f:\n",
    "    f.write('hypo\\thyper\\tsim\\tis_oov\\n')\n",
    "    f.write('armed_robbery'+'\\t'+'robbery'+'\\t')\n",
    "    f.write(str(sim)+'\\n')\n",
    "f.close()\n",
    "pre = Precomputed(path)\n",
    "print(pre.predict('armed_robbery','robbery'))\n",
    "print(pre.predict('1234','56789'))"
   ]
  },
  {
   "cell_type": "code",
   "execution_count": 5,
   "metadata": {},
   "outputs": [],
   "source": [
    "ppmi.write_ppmi()"
   ]
  },
  {
   "cell_type": "code",
   "execution_count": 6,
   "metadata": {},
   "outputs": [],
   "source": [
    "svdmi.write_svdppmi()"
   ]
  },
  {
   "cell_type": "code",
   "execution_count": null,
   "metadata": {},
   "outputs": [],
   "source": []
  }
 ],
 "metadata": {
  "kernelspec": {
   "display_name": "Python 3",
   "language": "python",
   "name": "python3"
  },
  "language_info": {
   "codemirror_mode": {
    "name": "ipython",
    "version": 3
   },
   "file_extension": ".py",
   "mimetype": "text/x-python",
   "name": "python",
   "nbconvert_exporter": "python",
   "pygments_lexer": "ipython3",
   "version": "3.7.6"
  }
 },
 "nbformat": 4,
 "nbformat_minor": 4
}
