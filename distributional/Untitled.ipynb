{
 "cells": [
  {
   "cell_type": "markdown",
   "metadata": {},
   "source": [
    "Data"
   ]
  },
  {
   "cell_type": "code",
   "execution_count": 1,
   "metadata": {},
   "outputs": [
    {
     "name": "stdout",
     "output_type": "stream",
     "text": [
      "\n",
      "\n",
      "---------vocab---------\n",
      "EntityID\tPreferredName\tAllNames (seperated by '||')\n",
      "\n",
      "1\tlearning\tlearning\n",
      "\n",
      "\n",
      "\n",
      "---------sentences.sample---------\n",
      "SentenceID\tSentence\n",
      "\n",
      "aa-0#0\tDistributed attention .\n",
      "\n",
      "\n",
      "\n",
      "---------entityID2contexts---------\n",
      "8519\taa-0#1\t1\n",
      "\n",
      "7\taa-0#1\t1\n",
      "\n",
      "* EntityID  SentenceID(context)  weight\n"
     ]
    }
   ],
   "source": [
    "for filename in [\"vocab\", \"sentences.sample\", \"entityID2contexts\"]:\n",
    "    path = \"./data/\" + filename + \".txt\"\n",
    "    f = open(path, \"r\", encoding=\"utf-8\")\n",
    "    print('\\n\\n---------' + filename + '---------')\n",
    "    print(f.readline())\n",
    "    print(f.readline())\n",
    "    f.close()\n",
    "print(\"* EntityID  SentenceID(context)  weight\")"
   ]
  },
  {
   "cell_type": "markdown",
   "metadata": {},
   "source": [
    "Model"
   ]
  },
  {
   "cell_type": "code",
   "execution_count": 2,
   "metadata": {},
   "outputs": [
    {
     "name": "stderr",
     "output_type": "stream",
     "text": [
      "WARNING:root:Having to guess whether this is a POS tagged space.\n",
      "WARNING:root:Calculating the entropy maybe slow!\n",
      "100%|████████████████████████████████████████████████████████████████████████████████| 533/533 [01:19<00:00,  6.70it/s]\n",
      "WARNING:root:Having to guess whether this is a POS tagged space.\n",
      "WARNING:root:Calculating the entropy maybe slow!\n",
      "100%|████████████████████████████████████████████████████████████████████████████████| 533/533 [01:19<00:00,  6.69it/s]\n"
     ]
    }
   ],
   "source": [
    "# DIH\n",
    "from preprocess import *\n",
    "\n",
    "from patternBased.preprocess import read_sparse_matrix\n",
    "from DIH import baseDIH, SLQS, SLQS_Cos\n",
    "\n",
    "vocab_path=\"./data/vocab.txt\"\n",
    "predict_pairs_path=\"./data/test_pairs.txt\"\n",
    "predict_pairs=read_predict_pairs(vocab_path, predict_pairs_path)\n",
    "\n",
    "spacefile_path=\"./data/entityID2contexts.txt\"\n",
    "basedih=baseDIH(spacefile_path)\n",
    "slqs=SLQS(spacefile_path, topk=50)\n",
    "slqs_cos=SLQS_Cos(spacefile_path, topk=50)"
   ]
  },
  {
   "cell_type": "code",
   "execution_count": 3,
   "metadata": {},
   "outputs": [],
   "source": [
    "write_model(basedih, \"baseDIH\")\n",
    "write_model(slqs, \"slqs\")\n",
    "write_model(slqs_cos, \"slqs_cos\")"
   ]
  },
  {
   "cell_type": "markdown",
   "metadata": {},
   "source": [
    "Prediction"
   ]
  },
  {
   "cell_type": "code",
   "execution_count": 4,
   "metadata": {},
   "outputs": [
    {
     "name": "stdout",
     "output_type": "stream",
     "text": [
      "Please specify the model!\n"
     ]
    }
   ],
   "source": [
    "def _predict(model=None, metric_name=None):\n",
    "    \n",
    "    model_space={basedih:basedih, slqs:slqs, slqs_cos:slqs_cos}\n",
    "    results=[]\n",
    "    y_trues=[]\n",
    "    \n",
    "    if model is not None:\n",
    "        for pair in predict_pairs: # global\n",
    "            hypo=pair[1]\n",
    "            hyper=pair[0]\n",
    "        \n",
    "            y_trues.append(pair[-1])\n",
    "        \n",
    "            if metric_name is None:\n",
    "                results.append(model_space[model].predict(hypo, hyper))\n",
    "            \n",
    "            else: results.append(model_space[model].predict(hypo, hyper, metric_name))\n",
    "        \n",
    "        return results, y_trues\n",
    "    \n",
    "    else: \n",
    "        print(\"Please specify the model!\")\n",
    "        \n",
    "        for pair in predict_pairs: # global\n",
    "            hypo=pair[1]\n",
    "            hyper=pair[0]\n",
    "        \n",
    "            y_trues.append(pair[-1])\n",
    "        return y_trues\n",
    "\n",
    "    \n",
    "y_trues = _predict()\n",
    "\n",
    "pred_weeds, _ = _predict(basedih, \"weeds_prec\")\n",
    "pred_clarkeDE, _ = _predict(basedih, \"clarkeDE\")\n",
    "pred_invCL, _ = _predict(basedih, \"invCL\")\n",
    "pred_cosine, _ = _predict(basedih, \"cosine\")\n",
    "\n",
    "pred_slqs, _ = _predict(slqs)\n",
    "pred_slqs_cos, _ = _predict(slqs_cos)"
   ]
  },
  {
   "cell_type": "code",
   "execution_count": 5,
   "metadata": {},
   "outputs": [],
   "source": [
    "writer(\"weeds\", pred_weeds)\n",
    "writer(\"clarkeDE\", pred_clarkeDE)\n",
    "writer(\"invCL\", pred_invCL)\n",
    "writer(\"cosine\", pred_cosine)\n",
    "writer(\"slqs\", pred_slqs)\n",
    "writer(\"slqs_cos\", pred_slqs_cos)"
   ]
  },
  {
   "cell_type": "markdown",
   "metadata": {},
   "source": [
    "Evaluation"
   ]
  },
  {
   "cell_type": "code",
   "execution_count": 9,
   "metadata": {},
   "outputs": [
    {
     "data": {
      "text/html": [
       "<div>\n",
       "<style scoped>\n",
       "    .dataframe tbody tr th:only-of-type {\n",
       "        vertical-align: middle;\n",
       "    }\n",
       "\n",
       "    .dataframe tbody tr th {\n",
       "        vertical-align: top;\n",
       "    }\n",
       "\n",
       "    .dataframe thead th {\n",
       "        text-align: right;\n",
       "    }\n",
       "</style>\n",
       "<table border=\"1\" class=\"dataframe\">\n",
       "  <thead>\n",
       "    <tr style=\"text-align: right;\">\n",
       "      <th></th>\n",
       "      <th>AP</th>\n",
       "      <th>AP@100</th>\n",
       "    </tr>\n",
       "  </thead>\n",
       "  <tbody>\n",
       "    <tr>\n",
       "      <th>weeds_prec</th>\n",
       "      <td>0.546442</td>\n",
       "      <td>0.795885</td>\n",
       "    </tr>\n",
       "    <tr>\n",
       "      <th>clarkeDE</th>\n",
       "      <td>0.549216</td>\n",
       "      <td>0.801145</td>\n",
       "    </tr>\n",
       "    <tr>\n",
       "      <th>invCL</th>\n",
       "      <td>0.591873</td>\n",
       "      <td>0.854653</td>\n",
       "    </tr>\n",
       "    <tr>\n",
       "      <th>cosine</th>\n",
       "      <td>0.379949</td>\n",
       "      <td>0.494368</td>\n",
       "    </tr>\n",
       "    <tr>\n",
       "      <th>slqs</th>\n",
       "      <td>0.172089</td>\n",
       "      <td>0.182375</td>\n",
       "    </tr>\n",
       "    <tr>\n",
       "      <th>slqs_cos</th>\n",
       "      <td>0.314500</td>\n",
       "      <td>0.486050</td>\n",
       "    </tr>\n",
       "  </tbody>\n",
       "</table>\n",
       "</div>"
      ],
      "text/plain": [
       "                  AP    AP@100\n",
       "weeds_prec  0.546442  0.795885\n",
       "clarkeDE    0.549216  0.801145\n",
       "invCL       0.591873  0.854653\n",
       "cosine      0.379949  0.494368\n",
       "slqs        0.172089  0.182375\n",
       "slqs_cos    0.314500  0.486050"
      ]
     },
     "execution_count": 9,
     "metadata": {},
     "output_type": "execute_result"
    }
   ],
   "source": [
    "from eval import *\n",
    "import pandas as pd\n",
    "\n",
    "ap = [average_precision_score(y_trues, pred) for pred in \n",
    "      [pred_weeds, pred_clarkeDE, pred_invCL, pred_cosine, pred_slqs, pred_slqs_cos]]\n",
    "\n",
    "ap_100 = [ap_at_k(y_trues, pred, 100) for pred in \n",
    "             [pred_weeds, pred_clarkeDE, pred_invCL, pred_cosine, pred_slqs, pred_slqs_cos]]\n",
    "\n",
    "results = {\"AP\": ap, \"AP@100\": ap_100}\n",
    "report = pd.DataFrame(results, columns=[\"AP\",\"AP@100\"], \n",
    "                      index=['weeds_prec', 'clarkeDE', 'invCL', 'cosine', 'slqs', 'slqs_cos'])\n",
    "\n",
    "report.to_csv(\"./data/results.txt\", sep=\"\\t\")\n",
    "report.head(6)"
   ]
  },
  {
   "cell_type": "code",
   "execution_count": null,
   "metadata": {},
   "outputs": [],
   "source": []
  }
 ],
 "metadata": {
  "kernelspec": {
   "display_name": "Python 3",
   "language": "python",
   "name": "python3"
  },
  "language_info": {
   "codemirror_mode": {
    "name": "ipython",
    "version": 3
   },
   "file_extension": ".py",
   "mimetype": "text/x-python",
   "name": "python",
   "nbconvert_exporter": "python",
   "pygments_lexer": "ipython3",
   "version": "3.7.6"
  }
 },
 "nbformat": 4,
 "nbformat_minor": 4
}
